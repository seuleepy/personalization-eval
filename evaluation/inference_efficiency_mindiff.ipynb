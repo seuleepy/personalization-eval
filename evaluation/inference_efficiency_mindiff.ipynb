{
 "cells": [
  {
   "cell_type": "code",
   "execution_count": 1,
   "id": "1d34b09a-acf4-4f73-8c92-bfe8d113f96e",
   "metadata": {},
   "outputs": [
    {
     "name": "stderr",
     "output_type": "stream",
     "text": [
      "/home/seulgi/anaconda3/envs/dreambooth/lib/python3.8/site-packages/tqdm/auto.py:21: TqdmWarning: IProgress not found. Please update jupyter and ipywidgets. See https://ipywidgets.readthedocs.io/en/stable/user_install.html\n",
      "  from .autonotebook import tqdm as notebook_tqdm\n"
     ]
    }
   ],
   "source": [
    "import torch\n",
    "import time\n",
    "import sys\n",
    "sys.path.append(\"/append/MINDiff/path\")\n",
    "from pipeline_stable_diffusion_mask import StableDiffusionMaskPipeline\n",
    "from set_attn_proc import set_mask_attn\n",
    "from mask_attention_processor import MaskAttnProcessor2_0"
   ]
  },
  {
   "cell_type": "code",
   "execution_count": 2,
   "id": "a8dfb0f1-b961-4fe0-996e-b8d5077bad5b",
   "metadata": {},
   "outputs": [
    {
     "name": "stderr",
     "output_type": "stream",
     "text": [
      "Loading pipeline components...: 100%|██████████████████████████████████████| 7/7 [00:26<00:00,  3.84s/it]\n"
     ]
    }
   ],
   "source": [
    "pipeline = StableDiffusionMaskPipeline.from_pretrained(\n",
    "    \"/Input/model/path\",\n",
    "    torch_dtype=torch.float16).to(\"cuda\")\n",
    "unet = pipeline.unet\n",
    "unet = set_mask_attn(\n",
    "    unet=unet,\n",
    "    mask_resolution=16,\n",
    "    )\n",
    "mask_token_id = pipeline.tokenizer.convert_tokens_to_ids(\"sks</w>\")"
   ]
  },
  {
   "cell_type": "code",
   "execution_count": 3,
   "id": "695b14a6-6872-4921-bbc6-aa1b45ff6d85",
   "metadata": {},
   "outputs": [],
   "source": [
    "def measure_sd_latency(pipe, prompt, pre_prompt, num_images=1, repeat=10):\n",
    "    # Warm-up\n",
    "    MaskAttnProcessor2_0.mask = None\n",
    "    _ = pipe(prompt,\n",
    "             num_images_per_prompt=num_images,\n",
    "             mask_token_id=mask_token_id,\n",
    "             pre_prompt=pre_prompt,\n",
    "             attn_scale=1.0)\n",
    "    if hasattr(MaskAttnProcessor2_0, 'mask_buffer'):\n",
    "        del MaskAttnProcessor2_0.mask_buffer\n",
    "        torch.cuda.empty_cache()\n",
    "    torch.cuda.synchronize() # Wait until GPU operations are complete\n",
    "\n",
    "    # Wait until GPU operations are complete\n",
    "    torch.cuda.reset_peak_memory_stats() # Reset peak memory usage from previous runs\n",
    "    \n",
    "    start = time.time()\n",
    "    for _ in range(repeat):\n",
    "        MaskAttnProcessor2_0.mask = None\n",
    "        _ = pipe(prompt,\n",
    "                 num_images_per_prompt=num_images,\n",
    "                 mask_token_id=mask_token_id,\n",
    "                 attn_scale=1.0,\n",
    "                 pre_prompt=pre_prompt)\n",
    "        if hasattr(MaskAttnProcessor2_0, 'mask_buffer'):\n",
    "            del MaskAttnProcessor2_0.mask_buffer\n",
    "            torch.cuda.empty_cache()\n",
    "    torch.cuda.synchronize()\n",
    "    end = time.time()\n",
    "    \n",
    "    avg_latency = (end - start) / repeat\n",
    "    peak_memory = torch.cuda.max_memory_allocated() / 1024**2\n",
    "    \n",
    "    return avg_latency, peak_memory"
   ]
  },
  {
   "cell_type": "code",
   "execution_count": 4,
   "id": "0bf0b4c0-98f5-4f22-a607-10c8d915bbcc",
   "metadata": {},
   "outputs": [
    {
     "name": "stderr",
     "output_type": "stream",
     "text": [
      "100%|████████████████████████████████████████████████████████████████████| 50/50 [00:02<00:00, 22.45it/s]\n",
      "100%|████████████████████████████████████████████████████████████████████| 50/50 [00:02<00:00, 23.70it/s]\n",
      "100%|████████████████████████████████████████████████████████████████████| 50/50 [00:02<00:00, 24.00it/s]\n",
      "100%|████████████████████████████████████████████████████████████████████| 50/50 [00:02<00:00, 24.01it/s]\n",
      "100%|████████████████████████████████████████████████████████████████████| 50/50 [00:02<00:00, 23.92it/s]\n",
      "100%|████████████████████████████████████████████████████████████████████| 50/50 [00:02<00:00, 23.56it/s]\n",
      "100%|████████████████████████████████████████████████████████████████████| 50/50 [00:02<00:00, 23.59it/s]\n",
      "100%|████████████████████████████████████████████████████████████████████| 50/50 [00:02<00:00, 23.91it/s]\n",
      "100%|████████████████████████████████████████████████████████████████████| 50/50 [00:02<00:00, 23.64it/s]\n",
      "100%|████████████████████████████████████████████████████████████████████| 50/50 [00:02<00:00, 23.45it/s]\n",
      "100%|████████████████████████████████████████████████████████████████████| 50/50 [00:02<00:00, 23.74it/s]\n"
     ]
    },
    {
     "name": "stdout",
     "output_type": "stream",
     "text": [
      "Avg latency: 2213.99 ms\n",
      "Peak GPU memory: 3269.29 MB\n"
     ]
    }
   ],
   "source": [
    "latency, memory = measure_sd_latency(pipeline, \"a sks backpack on a wooden table\", \"a sks backpack\", num_images=1, repeat=10)\n",
    "print(f\"Avg latency: {latency*1000:.2f} ms\")\n",
    "print(f\"Peak GPU memory: {memory:.2f} MB\")"
   ]
  },
  {
   "cell_type": "code",
   "execution_count": null,
   "id": "7f42fd79-4434-4ea0-a3fe-e2752823dd02",
   "metadata": {},
   "outputs": [],
   "source": [
    "def measure_sd_latency_event(pipe, prompt, pre_prompt, num_images=1, repeat=10):\n",
    "    MaskAttnProcessor2_0.mask = None\n",
    "    _ = pipe(prompt,\n",
    "             num_images_per_prompt=num_images,\n",
    "             mask_token_id=mask_token_id,\n",
    "             pre_prompt=pre_prompt,\n",
    "             attn_scale=1.0) # wram-up\n",
    "    torch.cuda.synchronize()\n",
    "    torch.cuda.reset_peak_memory_stats()\n",
    "\n",
    "    total_time = 0.0\n",
    "\n",
    "    for _ in range(repeat):\n",
    "        start_event = torch.cuda.Event(enable_timing=True)\n",
    "        end_event = torch.cuda.Event(enable_timing=True)\n",
    "\n",
    "        start_event.record()\n",
    "        MaskAttnProcessor2_0.mask = None\n",
    "        _ = pipe(prompt,\n",
    "                 num_images_per_prompt=num_images,\n",
    "                 mask_token_id=mask_token_id,\n",
    "                 attn_scale=1.0,\n",
    "                 pre_prompt=pre_prompt)\n",
    "        end_event.record()\n",
    "\n",
    "        torch.cuda.synchronize()\n",
    "        elapsed = start_event.elapsed_time(end_event)\n",
    "        total_time += elapsed\n",
    "\n",
    "    avg_latency = total_time / repeat\n",
    "    peak_memory = torch.cuda.max_memory_allocated() / 1024**2\n",
    "\n",
    "    return avg_latency, peak_memory"
   ]
  },
  {
   "cell_type": "code",
   "execution_count": 10,
   "id": "2feaefba-37a6-437d-b277-002df5089e9f",
   "metadata": {},
   "outputs": [
    {
     "name": "stderr",
     "output_type": "stream",
     "text": [
      "100%|████████████████████████████████████████████████████████████████████| 50/50 [00:02<00:00, 24.01it/s]\n",
      "100%|████████████████████████████████████████████████████████████████████| 50/50 [00:02<00:00, 24.01it/s]\n",
      "100%|████████████████████████████████████████████████████████████████████| 50/50 [00:02<00:00, 23.99it/s]\n",
      "100%|████████████████████████████████████████████████████████████████████| 50/50 [00:02<00:00, 23.92it/s]\n",
      "100%|████████████████████████████████████████████████████████████████████| 50/50 [00:02<00:00, 24.02it/s]\n",
      "100%|████████████████████████████████████████████████████████████████████| 50/50 [00:02<00:00, 23.95it/s]\n",
      "100%|████████████████████████████████████████████████████████████████████| 50/50 [00:02<00:00, 24.02it/s]\n",
      "100%|████████████████████████████████████████████████████████████████████| 50/50 [00:02<00:00, 23.85it/s]\n",
      "100%|████████████████████████████████████████████████████████████████████| 50/50 [00:02<00:00, 23.19it/s]\n",
      "100%|████████████████████████████████████████████████████████████████████| 50/50 [00:02<00:00, 23.84it/s]\n",
      "100%|████████████████████████████████████████████████████████████████████| 50/50 [00:02<00:00, 23.74it/s]\n",
      "100%|████████████████████████████████████████████████████████████████████| 50/50 [00:02<00:00, 23.83it/s]\n",
      "100%|████████████████████████████████████████████████████████████████████| 50/50 [00:02<00:00, 23.79it/s]\n",
      "100%|████████████████████████████████████████████████████████████████████| 50/50 [00:02<00:00, 23.76it/s]\n",
      "100%|████████████████████████████████████████████████████████████████████| 50/50 [00:02<00:00, 23.85it/s]\n",
      "100%|████████████████████████████████████████████████████████████████████| 50/50 [00:02<00:00, 23.80it/s]\n",
      "100%|████████████████████████████████████████████████████████████████████| 50/50 [00:02<00:00, 23.74it/s]\n",
      "100%|████████████████████████████████████████████████████████████████████| 50/50 [00:02<00:00, 23.83it/s]\n",
      "100%|████████████████████████████████████████████████████████████████████| 50/50 [00:02<00:00, 23.85it/s]\n",
      "100%|████████████████████████████████████████████████████████████████████| 50/50 [00:02<00:00, 23.87it/s]\n",
      "100%|████████████████████████████████████████████████████████████████████| 50/50 [00:02<00:00, 23.87it/s]\n",
      "100%|████████████████████████████████████████████████████████████████████| 50/50 [00:02<00:00, 23.83it/s]\n",
      "100%|████████████████████████████████████████████████████████████████████| 50/50 [00:02<00:00, 23.83it/s]\n",
      "100%|████████████████████████████████████████████████████████████████████| 50/50 [00:02<00:00, 23.99it/s]\n",
      "100%|████████████████████████████████████████████████████████████████████| 50/50 [00:02<00:00, 23.91it/s]\n",
      "100%|████████████████████████████████████████████████████████████████████| 50/50 [00:02<00:00, 23.95it/s]\n",
      "100%|████████████████████████████████████████████████████████████████████| 50/50 [00:02<00:00, 23.94it/s]\n",
      "100%|████████████████████████████████████████████████████████████████████| 50/50 [00:02<00:00, 23.92it/s]\n",
      "100%|████████████████████████████████████████████████████████████████████| 50/50 [00:02<00:00, 23.95it/s]\n",
      "100%|████████████████████████████████████████████████████████████████████| 50/50 [00:02<00:00, 23.97it/s]\n",
      "100%|████████████████████████████████████████████████████████████████████| 50/50 [00:02<00:00, 23.90it/s]"
     ]
    },
    {
     "name": "stdout",
     "output_type": "stream",
     "text": [
      "Avg latency: 2174.57 ms\n",
      "Peak GPU memory: 3265.62 MB\n"
     ]
    },
    {
     "name": "stderr",
     "output_type": "stream",
     "text": [
      "\n"
     ]
    }
   ],
   "source": [
    "latency, memory = measure_sd_latency_event(pipeline, \"a sks backpack on a wooden table\", \"a sks backpack\", num_images=1, repeat=30)\n",
    "print(f\"Avg latency: {latency:.2f} ms\") # No need to multiply by 1000 since the result is already in milliseconds\n",
    "print(f\"Peak GPU memory: {memory:.2f} MB\")"
   ]
  },
  {
   "cell_type": "code",
   "execution_count": 6,
   "id": "c36a857f-6b9c-4a7e-9dfd-51f39588c235",
   "metadata": {},
   "outputs": [
    {
     "name": "stdout",
     "output_type": "stream",
     "text": [
      "\n",
      "Batch size: 1\n"
     ]
    },
    {
     "name": "stderr",
     "output_type": "stream",
     "text": [
      "100%|████████████████████████████████████████████████████████████████████| 50/50 [00:02<00:00, 22.46it/s]\n",
      "100%|████████████████████████████████████████████████████████████████████| 50/50 [00:02<00:00, 23.80it/s]\n"
     ]
    },
    {
     "name": "stdout",
     "output_type": "stream",
     "text": [
      "Time: 2204.41ms | FPS: 0.45 | Per image: 2204.41ms\n",
      "\n",
      "Batch size: 2\n"
     ]
    },
    {
     "name": "stderr",
     "output_type": "stream",
     "text": [
      "100%|████████████████████████████████████████████████████████████████████| 50/50 [00:03<00:00, 15.20it/s]\n",
      "100%|████████████████████████████████████████████████████████████████████| 50/50 [00:03<00:00, 15.40it/s]\n"
     ]
    },
    {
     "name": "stdout",
     "output_type": "stream",
     "text": [
      "Time: 3430.85ms | FPS: 0.58 | Per image: 1715.42ms\n",
      "\n",
      "Batch size: 4\n"
     ]
    },
    {
     "name": "stderr",
     "output_type": "stream",
     "text": [
      "100%|████████████████████████████████████████████████████████████████████| 50/50 [00:06<00:00,  7.93it/s]\n",
      "100%|████████████████████████████████████████████████████████████████████| 50/50 [00:06<00:00,  7.99it/s]\n"
     ]
    },
    {
     "name": "stdout",
     "output_type": "stream",
     "text": [
      "Time: 6598.92ms | FPS: 0.61 | Per image: 1649.73ms\n",
      "\n",
      "Batch size: 8\n"
     ]
    },
    {
     "name": "stderr",
     "output_type": "stream",
     "text": [
      "100%|████████████████████████████████████████████████████████████████████| 50/50 [00:11<00:00,  4.35it/s]\n",
      "100%|████████████████████████████████████████████████████████████████████| 50/50 [00:11<00:00,  4.35it/s]\n"
     ]
    },
    {
     "name": "stdout",
     "output_type": "stream",
     "text": [
      "Time: 12140.12ms | FPS: 0.66 | Per image: 1517.51ms\n"
     ]
    }
   ],
   "source": [
    "batch_sizes = [1, 2, 4, 8]\n",
    "prompt = \"a sks backpack on a wooden table\"\n",
    "\n",
    "for batch_size in batch_sizes:\n",
    "\n",
    "    print(f\"\\nBatch size: {batch_size}\")\n",
    "\n",
    "    # Warm-up run\n",
    "    MaskAttnProcessor2_0.mask = None\n",
    "    MaskAttnProcessor2_0.stack = None\n",
    "    _ = pipeline(prompt,\n",
    "                num_images_per_prompt=batch_size,\n",
    "                mask_token_id=mask_token_id,\n",
    "                attn_scale=1.0,\n",
    "                pre_prompt=\"a sks backpack\")\n",
    "    if hasattr(MaskAttnProcessor2_0, 'mask_buffer'):\n",
    "            del MaskAttnProcessor2_0.mask_buffer\n",
    "            torch.cuda.empty_cache()\n",
    "    \n",
    "    # Start measurement\n",
    "    torch.cuda.synchronize()\n",
    "    start = time.time()\n",
    "    MaskAttnProcessor2_0.mask = None\n",
    "    _ = pipeline(prompt,\n",
    "                num_images_per_prompt=batch_size,\n",
    "                mask_token_id=mask_token_id,\n",
    "                attn_scale=1.0,\n",
    "                pre_prompt=\"a sks backpack\")\n",
    "    if hasattr(MaskAttnProcessor2_0, 'mask_buffer'):\n",
    "            del MaskAttnProcessor2_0.mask_buffer\n",
    "            torch.cuda.empty_cache()\n",
    "    torch.cuda.synchronize()\n",
    "    end = time.time()\n",
    "\n",
    "    elapsed = (end - start)\n",
    "    elapsed_ms = elapsed * 1000\n",
    "    fps = batch_size / elapsed\n",
    "    per_image_time = elapsed_ms / batch_size\n",
    "\n",
    "    print(f\"Time: {elapsed_ms:.2f}ms | FPS: {fps:.2f} | Per image: {per_image_time:.2f}ms\")"
   ]
  },
  {
   "cell_type": "code",
   "execution_count": null,
   "id": "0ee81f98-5643-4f78-9e95-8e2109ff4a3c",
   "metadata": {},
   "outputs": [],
   "source": []
  }
 ],
 "metadata": {
  "kernelspec": {
   "display_name": "dreambooth",
   "language": "python",
   "name": "dreambooth"
  },
  "language_info": {
   "codemirror_mode": {
    "name": "ipython",
    "version": 3
   },
   "file_extension": ".py",
   "mimetype": "text/x-python",
   "name": "python",
   "nbconvert_exporter": "python",
   "pygments_lexer": "ipython3",
   "version": "3.8.20"
  }
 },
 "nbformat": 4,
 "nbformat_minor": 5
}
